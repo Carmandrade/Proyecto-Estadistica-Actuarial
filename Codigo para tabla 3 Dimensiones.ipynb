{
 "cells": [
  {
   "cell_type": "code",
   "execution_count": 1,
   "metadata": {},
   "outputs": [],
   "source": [
    "import pandas as pd\n",
    "\n",
    "ruta = r\"Indicadores.xlsx\"\n",
    "\n",
    "#El siguiente código tiene como objetivo ayudar a responder la pregunta central, creando la tabla con los coeficientes de las 3 dimensiones que se usará luego para encontrar las correlaciones entre las dimensiones.\n",
    "df = pd.read_excel(ruta)\n",
    "\n",
    "columnas_salud = [' Nutrición', 'Mortalidad Infantil']\n",
    "columnas_educacion = ['Años de escolaridad', 'Asistencia escolar']\n",
    "columnas_estandares_de_vida = ['Combustible para cocinar', 'Salubridad', 'Agua Potable', 'Electricidad', 'Vivienda', 'Activos']\n",
    "\n",
    "# Calcular el promedio para cada dimensión\n",
    "promedio_salud = df[columnas_salud].mean(axis=1)\n",
    "promedio_educacion = df[columnas_educacion].mean(axis=1)\n",
    "promedio_estandares_de_vida = df[columnas_estandares_de_vida].mean(axis=1)\n",
    "\n",
    "#Unir las dimensiones en una sola tabla.\n",
    "df_dimensiones = pd.DataFrame({\n",
    "    'Salud': promedio_salud,\n",
    "    'Educación': promedio_educacion,\n",
    "    'Estándares de Vida': promedio_estandares_de_vida\n",
    "})\n",
    "\n",
    "\n",
    "df_dimensiones.to_excel('3 Dimensiones.xlsx', index=False)"
   ]
  }
 ],
 "metadata": {
  "kernelspec": {
   "display_name": "base",
   "language": "python",
   "name": "python3"
  },
  "language_info": {
   "codemirror_mode": {
    "name": "ipython",
    "version": 3
   },
   "file_extension": ".py",
   "mimetype": "text/x-python",
   "name": "python",
   "nbconvert_exporter": "python",
   "pygments_lexer": "ipython3",
   "version": "3.10.9"
  }
 },
 "nbformat": 4,
 "nbformat_minor": 2
}
